{
  "nbformat": 4,
  "nbformat_minor": 0,
  "metadata": {
    "colab": {
      "provenance": [],
      "authorship_tag": "ABX9TyP04OLI7Dcw5BhMZm8mcBfG",
      "include_colab_link": true
    },
    "kernelspec": {
      "name": "python3",
      "display_name": "Python 3"
    },
    "language_info": {
      "name": "python"
    }
  },
  "cells": [
    {
      "cell_type": "markdown",
      "metadata": {
        "id": "view-in-github",
        "colab_type": "text"
      },
      "source": [
        "<a href=\"https://colab.research.google.com/github/SANJANAKUMARI83/Repo1/blob/main/Copy_of_EP301_Assignmen_1.ipynb\" target=\"_parent\"><img src=\"https://colab.research.google.com/assets/colab-badge.svg\" alt=\"Open In Colab\"/></a>"
      ]
    },
    {
      "cell_type": "markdown",
      "source": [
        "# **EP301_Assignment-I**\n"
      ],
      "metadata": {
        "id": "sSn0p80QipAQ"
      }
    },
    {
      "cell_type": "markdown",
      "source": [
        "Q1. Verify the following series expansions: Hint: Use pow() function\n",
        "\n",
        "1/\n",
        "(1−𝑥)\n",
        "= 1 + 𝑥 + 𝑥^\n",
        "2 + 𝑥^\n",
        "3 + ⋯ 𝑓𝑜𝑟 − 1 < 𝑥 < 1\n"
      ],
      "metadata": {
        "id": "k9Jy4T5ElOc6"
      }
    },
    {
      "cell_type": "code",
      "source": [
        "\n",
        "def one_over_one_minus_x(x, num_terms=10):  #xvalue should be bw -1 and 1\n",
        "    result = 0\n",
        "\n",
        "    for i in range(num_terms):\n",
        "        term = pow(x, i)\n",
        "        result += term\n",
        "\n",
        "    return result\n",
        "\n",
        "# Test the function with a value of x (Verification part)\n",
        "x_value = 0.5 #x_value should be bw -1 and 1\n",
        "num_terms = 10\n",
        "result = one_over_one_minus_x(x_value, num_terms)\n",
        "print(f\"The approximate value of 1/(1-{x_value}) using {num_terms} terms is: {result}\")\n"
      ],
      "metadata": {
        "colab": {
          "base_uri": "https://localhost:8080/"
        },
        "id": "XTGZiGhboNsy",
        "outputId": "496a364b-1e1c-4f9f-cfcb-fde7c8aad160"
      },
      "execution_count": null,
      "outputs": [
        {
          "output_type": "stream",
          "name": "stdout",
          "text": [
            "The approximate value of 1/(1-0.5) using 10 terms is: 1.998046875\n"
          ]
        }
      ]
    },
    {
      "cell_type": "markdown",
      "source": [
        "In above code ,  We  can adjust the num_terms variable to control the accuracy of the approximation.\n",
        "\n",
        "---\n",
        "\n"
      ],
      "metadata": {
        "id": "GFiRMsCVnXIz"
      }
    },
    {
      "cell_type": "markdown",
      "source": [
        "Q2. Input two square matrices A and B, multiply them and display the resulting matrix C."
      ],
      "metadata": {
        "id": "CtXu2d26TC5p"
      }
    },
    {
      "cell_type": "code",
      "source": [
        "# In my  code, the function multiply_matrices(A, B) can perform matrix multiplication for any two matrices, not necessarily square matrices .\n",
        " # DEFINING A FUNCTION FOR MATRIX MULTIPLICATION:\n",
        " def multiply_matrices(A, B):\n",
        "    cols_A = len(A[0])\n",
        "    rows_B = len(B)\n",
        "    rows_A = len(A)\n",
        "    cols_B = len(B[0])\n",
        "\n",
        "    if cols_A != rows_B:\n",
        "        raise ValueError('MATRIX MULTIPLICATION NOT COMPATIBLE HERE!!')\n",
        "\n",
        "    # Initialize and create a zero matrix\n",
        "    C = [[0 for _ in range(cols_B)] for _ in range(rows_A)]\n",
        "\n",
        "    # Nested loops to create the product matrix\n",
        "    for i in range(rows_A):\n",
        "        for j in range(cols_B):\n",
        "            for k in range(cols_A):\n",
        "                C[i][j] += A[i][k] * B[k][j]\n",
        "\n",
        "    return C\n",
        "\n",
        "    # Function to take user input for a matrix\n",
        "def input_matrix(rows, cols):\n",
        "    matrix = []\n",
        "    for i in range(rows):\n",
        "        row = []\n",
        "        for j in range(cols):\n",
        "            element = int(input(f\"Enter the element at position ({i}, {j}): \"))\n",
        "            row.append(element)\n",
        "        matrix.append(row)\n",
        "    return matrix\n",
        "\n",
        "    # Function to print a matrix\n",
        "def print_matrix(matrix):\n",
        "    for row in matrix:\n",
        "        print(row)\n",
        "\n",
        "# Take input for the number of rows and columns for matrices A and B\n",
        "rows_A = int(input(\"Enter the number of rows for matrix A: \"))\n",
        "cols_A = int(input(\"Enter the number of columns for matrix A: \"))\n",
        "\n",
        "rows_B = int(input(\"Enter the number of rows for matrix B: \"))\n",
        "cols_B = int(input(\"Enter the number of columns for matrix B: \"))\n",
        "\n",
        "# Input matrices A and B using user input\n",
        "print(\"Input Matrix A:\")\n",
        "A = input_matrix(rows_A, cols_A)\n",
        "\n",
        "print(\"\\nInput Matrix B:\")\n",
        "B = input_matrix(rows_B, cols_B)\n",
        "\n",
        "\n",
        "try:\n",
        "    C = multiply_matrices(A, B)\n",
        "    print(\"Matrix A:\")\n",
        "    print_matrix(A)\n",
        "\n",
        "    print(\"\\nMatrix B:\")\n",
        "    print_matrix(B)\n",
        "\n",
        "    print(\"\\nResulting Matrix C:\")\n",
        "    print_matrix(C)\n",
        "\n",
        "except ValueError as e:\n",
        "    print(e)\n",
        "\n",
        "\n",
        "\n",
        "\n"
      ],
      "metadata": {
        "colab": {
          "base_uri": "https://localhost:8080/"
        },
        "id": "kZi48RitACjq",
        "outputId": "a21237c7-1cc6-4abf-c0be-aea458a92115"
      },
      "execution_count": null,
      "outputs": [
        {
          "output_type": "stream",
          "name": "stdout",
          "text": [
            "Enter the number of rows for matrix A: 2\n",
            "Enter the number of columns for matrix A: 1\n",
            "Enter the number of rows for matrix B: 1\n",
            "Enter the number of columns for matrix B: 3\n",
            "Input Matrix A:\n",
            "Enter the element at position (0, 0): 0\n",
            "Enter the element at position (1, 0): -1\n",
            "\n",
            "Input Matrix B:\n",
            "Enter the element at position (0, 0): 2\n",
            "Enter the element at position (0, 1): 3\n",
            "Enter the element at position (0, 2): 4\n",
            "Matrix A:\n",
            "[0]\n",
            "[-1]\n",
            "\n",
            "Matrix B:\n",
            "[2, 3, 4]\n",
            "\n",
            "Resulting Matrix C:\n",
            "[0, 0, 0]\n",
            "[-2, -3, -4]\n"
          ]
        }
      ]
    },
    {
      "cell_type": "markdown",
      "source": [
        "Q3. Consider a square wave f(x) of length 2L over the range [0,2L]. Explore how Fourier series can\n",
        "reproduce the f(x).\n"
      ],
      "metadata": {
        "id": "WOA80Ny1WEZX"
      }
    },
    {
      "cell_type": "code",
      "source": [
        "import numpy as np\n",
        "import matplotlib.pyplot as plt\n",
        "\n",
        "def square_wave(x, L, num_terms):\n",
        "    result = 0\n",
        "    for n in range(1, num_terms + 1):\n",
        "        term = (1/n) * np.sin(n * np.pi * x / L)\n",
        "        result += term\n",
        "    return (4/np.pi) * result\n",
        "\n",
        "L = 1 # Length of the square wave , L= 1 (say)\n",
        "num_terms = 10  # Number of terms in the Fourier series ,  num_terms= 10 (say)\n",
        "\n",
        "# Generate x values from 0 to 2L (inclusive) for plotting (1000 samples)\n",
        "x_values = np.linspace(0, 2*L, 1000)\n",
        "\n",
        "# Calculate the corresponding y values using the Fourier series\n",
        "y_values = [square_wave(x, L, num_terms) for x in x_values]\n",
        "\n",
        "# Plot the square wave and the Fourier series approximation\n",
        "plt.plot(x_values, y_values, label='Fourier Series (N = {num_terms})')\n",
        "plt.plot(x_values, [1 if 0 <= x < L else -1 for x in x_values], '--', label='Original Square Wave')\n",
        "plt.xlabel('x')\n",
        "plt.ylabel('f(x)')\n",
        "plt.legend()\n",
        "plt.title('Fourier Series Approximation of a Square Wave')\n",
        "plt.grid()\n",
        "plt.show()\n"
      ],
      "metadata": {
        "colab": {
          "base_uri": "https://localhost:8080/",
          "height": 472
        },
        "id": "xLVoYWjwdoLH",
        "outputId": "d72849e9-d76d-424c-9e9b-89adda780505"
      },
      "execution_count": null,
      "outputs": [
        {
          "output_type": "display_data",
          "data": {
            "text/plain": [
              "<Figure size 640x480 with 1 Axes>"
            ],
            "image/png": "[encoded data removed]"
          },
          "metadata": {}
        }
      ]
    },
    {
      "cell_type": "markdown",
      "source": [
        "**CONCLUSION:**  The number of terms in the Fourier series (num_terms) can be\n",
        "adjusted to see how the approximation improves with more terms. As you increase num_terms, the Fourier series better approximates the square wave function.\n",
        "\n",
        "\n",
        "---\n"
      ],
      "metadata": {
        "id": "A7_ELEZHh78R"
      }
    },
    {
      "cell_type": "markdown",
      "source": [
        "Q4. Find value of pi using Monte-Carlo technique. Hint: Use the function rand() for generating\n",
        "random number.\n"
      ],
      "metadata": {
        "id": "EE7BLjahiIBu"
      }
    },
    {
      "cell_type": "code",
      "source": [
        "import random #Importing random module which provides functions to generate random no.s\n",
        "def estimate_pi(num_points):\n",
        "  points_inside_circle = 0\n",
        "  for _ in range(num_points): # _ is throwaway variable.\n",
        "   x = random.uniform(-1, 1)  # Random x-coordinate between -1 and 1\n",
        "   y = random.uniform(-1, 1)  # Random y-coordinate between -1 and 1\n",
        "   # Check if the point (x, y) is inside the unit circle\n",
        "   if x**2 + y**2 <= 1:\n",
        "      points_inside_circle += 1\n",
        "            #This will count no. of points which are inside circle\n",
        "         # Calculate the estimated value of pi\n",
        "   pi_estimate = 4 * points_inside_circle / num_points\n",
        "  return pi_estimate\n",
        "    # User input for Number of random points to generate\n",
        "num_points = int(input(\"No. of points to be generated:\") )\n",
        "\n",
        "# Estimate the value of pi\n",
        "pi_estimate = estimate_pi(num_points)\n",
        "print(\"Estimated value of pi:\", pi_estimate)\n"
      ],
      "metadata": {
        "colab": {
          "base_uri": "https://localhost:8080/"
        },
        "id": "uWdhOMsKiN4F",
        "outputId": "ad013340-49b9-47d2-84bc-bed2d24f4374"
      },
      "execution_count": null,
      "outputs": [
        {
          "output_type": "stream",
          "name": "stdout",
          "text": [
            "No. of points to be generated:1000\n",
            "Estimated value of pi: 3.092\n"
          ]
        }
      ]
    },
    {
      "cell_type": "markdown",
      "source": [
        "NOTE : The more points you generate (num_points), the closer the estimated value of π will be to the actual value.\n",
        "\n",
        "---"
      ],
      "metadata": {
        "id": "JmVRIiPXnOAO"
      }
    },
    {
      "cell_type": "markdown",
      "source": [
        "Q. Write a program which uses Gauss elimination method to solve the system of linear equations:\n",
        "𝑥1 + x2 + x3 = 0  ;\n",
        "𝑥1 − 2x2 + 2x3 = 4 ;\n",
        "𝑥1 + 2x2 − x3 = 2\n"
      ],
      "metadata": {
        "id": "lGYazIb4h4DZ"
      }
    },
    {
      "cell_type": "code",
      "source": [
        "def gauss_elimination(A, b):\n",
        "    n = len(A)\n",
        "# forming upper triangular matrix\n",
        "    # Forward Elimination (Row Echelon Form)\n",
        "    for i in range(n):\n",
        "        # Make the diagonal element non-zero (pivot)\n",
        "        if A[i][i] == 0:\n",
        "            for k in range(i + 1, n):\n",
        "                if A[k][i] != 0:\n",
        "                    A[i], A[k] = A[k], A[i]\n",
        "                    b[i], b[k] = b[k], b[i]\n",
        "                    break\n",
        "\n",
        "        # Perform row operations to make the elements below the pivot zero\n",
        "        for j in range(i + 1, n):\n",
        "            factor = A[j][i] / A[i][i]\n",
        "            for k in range(i, n):\n",
        "                A[j][k] -= factor * A[i][k]\n",
        "            b[j] -= factor * b[i]\n",
        "\n",
        "    # Back Substitution\n",
        "    x = [0] * n\n",
        "    for i in range(n - 1, -1, -1):\n",
        "        x[i] = b[i] / A[i][i]\n",
        "        for j in range(i - 1, -1, -1):\n",
        "            b[j] -= A[j][i] * x[i]\n",
        "\n",
        "    return x\n",
        "\n",
        "# Function to take user input for a matrix\n",
        "def input_matrix(rows, cols):\n",
        "    matrix = []\n",
        "    for i in range(rows):\n",
        "        row = []\n",
        "        for j in range(cols):\n",
        "            element = float(input(f\"Enter the element at position ({i}, {j}): \"))\n",
        "            row.append(element)\n",
        "        matrix.append(row)\n",
        "    return matrix\n",
        "\n",
        "# Function to take user input for a vector\n",
        "def input_vector(size):\n",
        "    vector = []\n",
        "    for i in range(size):\n",
        "        element = float(input(f\"Enter the value for element {i}: \"))\n",
        "        vector.append(element)\n",
        "    return vector\n",
        "\n",
        "# Take input for the size of the system of equations (number of variables)\n",
        "size = int(input(\"Enter the number of variables in the system: \"))\n",
        "\n",
        "# Input the coefficient matrix A and the right-hand side vector b using user input\n",
        "print(\"Input Coefficient Matrix A:\")\n",
        "A = input_matrix(size, size)\n",
        "\n",
        "print(\"\\nInput Right-hand side Vector b:\")\n",
        "b = input_vector(size)\n",
        "\n",
        "# Solve the system of linear equations using Gauss elimination\n",
        "solutions = gauss_elimination(A, b)\n",
        "\n",
        "# Display the solutions\n",
        "print(\"\\nSolutions:\")\n",
        "for i in range(size):\n",
        "    print(f\"Solution for x{i+1}: {solutions[i]}\")\n"
      ],
      "metadata": {
        "colab": {
          "base_uri": "https://localhost:8080/"
        },
        "id": "jODG_tK9h57v",
        "outputId": "a64fdfcc-7690-441e-ecb7-5e545b846642"
      },
      "execution_count": null,
      "outputs": [
        {
          "output_type": "stream",
          "name": "stdout",
          "text": [
            "Enter the number of variables in the system: 3\n",
            "Input Coefficient Matrix A:\n",
            "Enter the element at position (0, 0): 1\n",
            "Enter the element at position (0, 1): 1\n",
            "Enter the element at position (0, 2): 1\n",
            "Enter the element at position (1, 0): 1\n",
            "Enter the element at position (1, 1): -2\n",
            "Enter the element at position (1, 2): 2\n",
            "Enter the element at position (2, 0): 1\n",
            "Enter the element at position (2, 1): 2\n",
            "Enter the element at position (2, 2): -1\n",
            "\n",
            "Input Right-hand side Vector b:\n",
            "Enter the value for element 0: 0\n",
            "Enter the value for element 1: 4\n",
            "Enter the value for element 2: 2\n",
            "\n",
            "Solutions:\n",
            "Solution for x1: 4.0\n",
            "Solution for x2: -2.0\n",
            "Solution for x3: -1.9999999999999998\n"
          ]
        }
      ]
    },
    {
      "cell_type": "markdown",
      "source": [
        "FINISHED !! :)\n",
        "\n",
        "\n",
        "---\n",
        "\n",
        "\n",
        "\n",
        "---\n",
        "\n",
        "\n",
        "\n",
        "---\n",
        "\n"
      ],
      "metadata": {
        "id": "edzK7X9Xiiwz"
      }
    },
    {
      "cell_type": "code",
      "source": [],
      "metadata": {
        "id": "BXXOYgyCoILV"
      },
      "execution_count": null,
      "outputs": []
    }
  ]
}